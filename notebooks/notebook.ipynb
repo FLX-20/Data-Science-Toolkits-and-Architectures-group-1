{
 "cells": [
  {
   "cell_type": "markdown",
   "metadata": {},
   "source": [
    "# Importing all necessary libraries"
   ]
  },
  {
   "cell_type": "code",
   "execution_count": 2,
   "metadata": {},
   "outputs": [],
   "source": [
    "import numpy as np\n",
    "import matplotlib.pyplot as plt\n",
    "import os \n",
    "from PIL import Image\n",
    "import requests\n",
    "from io import BytesIO\n",
    "from sklearn.decomposition import PCA"
   ]
  },
  {
   "cell_type": "markdown",
   "metadata": {},
   "source": [
    "# Function to download image from URL"
   ]
  },
  {
   "cell_type": "code",
   "execution_count": 5,
   "metadata": {},
   "outputs": [
    {
     "name": "stdout",
     "output_type": "stream",
     "text": [
      "Dataset URL: https://www.kaggle.com/datasets/borhanitrash/animal-image-classification-dataset"
     ]
    },
    {
     "name": "stderr",
     "output_type": "stream",
     "text": [
      "\n",
      "  0%|          | 0.00/38.4M [00:00<?, ?B/s]\n",
      "  3%|▎         | 1.00M/38.4M [00:00<00:20, 1.89MB/s]\n",
      "  8%|▊         | 3.00M/38.4M [00:00<00:07, 5.12MB/s]\n",
      " 13%|█▎        | 5.00M/38.4M [00:00<00:04, 7.98MB/s]\n",
      " 18%|█▊        | 7.00M/38.4M [00:00<00:03, 10.1MB/s]\n",
      " 23%|██▎       | 9.00M/38.4M [00:01<00:02, 11.3MB/s]\n",
      " 29%|██▊       | 11.0M/38.4M [00:01<00:02, 12.6MB/s]\n",
      " 34%|███▍      | 13.0M/38.4M [00:01<00:01, 13.7MB/s]\n",
      " 39%|███▉      | 15.0M/38.4M [00:01<00:01, 14.6MB/s]\n",
      " 44%|████▍     | 17.0M/38.4M [00:01<00:01, 15.1MB/s]\n",
      " 50%|████▉     | 19.0M/38.4M [00:01<00:01, 15.6MB/s]\n",
      " 55%|█████▍    | 21.0M/38.4M [00:01<00:01, 16.2MB/s]\n",
      " 60%|█████▉    | 23.0M/38.4M [00:02<00:00, 16.3MB/s]\n",
      " 65%|██████▌   | 25.0M/38.4M [00:02<00:00, 16.4MB/s]\n",
      " 70%|███████   | 27.0M/38.4M [00:02<00:00, 16.4MB/s]\n",
      " 76%|███████▌  | 29.0M/38.4M [00:02<00:00, 16.5MB/s]\n",
      " 81%|████████  | 31.0M/38.4M [00:02<00:00, 16.3MB/s]\n",
      " 86%|████████▌ | 33.0M/38.4M [00:02<00:00, 16.3MB/s]\n",
      " 91%|█████████ | 35.0M/38.4M [00:02<00:00, 16.2MB/s]\n",
      " 96%|█████████▋| 37.0M/38.4M [00:02<00:00, 16.3MB/s]\n",
      "100%|██████████| 38.4M/38.4M [00:02<00:00, 13.5MB/s]\n"
     ]
    },
    {
     "name": "stdout",
     "output_type": "stream",
     "text": [
      "\n",
      "License(s): MIT\n",
      "Downloading animal-image-classification-dataset.zip to C:/Users/tjerk/Downloads/Animals\n",
      "\n"
     ]
    }
   ],
   "source": [
    "# Set the path where you want to save the dataset\n",
    "download_path = \"C:/Users/tjerk/Downloads/Animals\"\n",
    "\n",
    "# Ensure the directory exists\n",
    "os.makedirs(download_path, exist_ok=True)\n",
    "\n",
    "# Use the Kaggle API to download the dataset\n",
    "os.environ[\"KAGGLE_CONFIG_DIR\"] = os.path.expanduser(\"~/.kaggle\")\n",
    "dataset_identifier = \"borhanitrash/animal-image-classification-dataset\"\n",
    "\n",
    "!kaggle datasets download -d {dataset_identifier} -p {download_path} --unzip\n",
    "\n",
    "\n"
   ]
  },
  {
   "cell_type": "markdown",
   "metadata": {},
   "source": [
    "# Example image URLs "
   ]
  },
  {
   "cell_type": "code",
   "execution_count": 9,
   "metadata": {},
   "outputs": [],
   "source": [
    "dataset_paths = {\n",
    "    \"dogs\": r\"C:\\Users\\tjerk\\Downloads\\Animals\\dogs\",\n",
    "    \"cats\": r\"C:\\Users\\tjerk\\Downloads\\Animals\\cats\",\n",
    "    \"snakes\": r\"C:\\Users\\tjerk\\Downloads\\Animals\\snakes\",\n",
    "}\n"
   ]
  },
  {
   "cell_type": "markdown",
   "metadata": {},
   "source": [
    "# Load images and store them in numpy arrays"
   ]
  },
  {
   "cell_type": "code",
   "execution_count": 11,
   "metadata": {},
   "outputs": [
    {
     "name": "stdout",
     "output_type": "stream",
     "text": [
      "Dog images: 1000\n",
      "Cat images: 1000\n",
      "Snake images: 1000\n"
     ]
    }
   ],
   "source": [
    "images = {\"dogs\": [], \"cats\": [], \"snakes\": []}\n",
    "\n",
    "for class_name, folder in dataset_paths.items():  # Use dataset_paths, not dataset_urls\n",
    "    for img_name in os.listdir(folder):\n",
    "        img_path = os.path.join(folder, img_name)\n",
    "        if img_path.endswith(('.jpg', '.png', '.jpeg')):  # Ensure it's an image\n",
    "            images[class_name].append(img_path)\n",
    "\n",
    "print(\"Dog images:\", len(images[\"dogs\"]))\n",
    "print(\"Cat images:\", len(images[\"cats\"]))\n",
    "print(\"Snake images:\", len(images[\"snakes\"]))\n"
   ]
  },
  {
   "cell_type": "markdown",
   "metadata": {},
   "source": [
    "# Display basic information about the dataset"
   ]
  },
  {
   "cell_type": "code",
   "execution_count": 13,
   "metadata": {},
   "outputs": [
    {
     "name": "stdout",
     "output_type": "stream",
     "text": [
      "Class: dogs\n",
      "Number of images: 1000\n",
      "Image dimensions: (256, 256)\n",
      "\n",
      "Class: cats\n",
      "Number of images: 1000\n",
      "Image dimensions: (256, 256)\n",
      "\n",
      "Class: snakes\n",
      "Number of images: 1000\n",
      "Image dimensions: (256, 256)\n",
      "\n"
     ]
    }
   ],
   "source": [
    "for class_name, img_list in images.items():\n",
    "    if img_list:\n",
    "        print(f\"Class: {class_name}\")\n",
    "        print(f\"Number of images: {len(img_list)}\")\n",
    "        \n",
    "        # Open the first image to get its dimensions\n",
    "        first_image_path = img_list[0]\n",
    "        with Image.open(first_image_path) as img:\n",
    "            print(f\"Image dimensions: {img.size}\")  # img.size gives (width, height)\n",
    "        print()\n"
   ]
  },
  {
   "cell_type": "markdown",
   "metadata": {},
   "source": [
    "# Display a 3x3 grid of random images per class"
   ]
  },
  {
   "cell_type": "code",
   "execution_count": 16,
   "metadata": {},
   "outputs": [],
   "source": [
    "from PIL import Image\n",
    "import numpy as np\n",
    "import matplotlib.pyplot as plt\n",
    "\n",
    "# Example function to display the images\n",
    "def display_grid(img_list, class_name):\n",
    "    fig, axs = plt.subplots(3, 3, figsize=(9, 9))\n",
    "    for i, ax in enumerate(axs.flatten()):\n",
    "        # Open and convert the image to an array\n",
    "        img_path = img_list[i]\n",
    "        with Image.open(img_path) as img:\n",
    "            img_array = np.array(img)\n",
    "        \n",
    "        # Display the image in the subplot\n",
    "        ax.imshow(img_array)\n",
    "        ax.axis('off')\n",
    "        \n",
    "    plt.suptitle(f\"Sample Images from {class_name}\", fontsize=16)\n",
    "    plt.show()\n",
    "\n",
    "# Assuming images is a dictionary of image paths, e.g.:\n",
    "images = {\"dogs\": [\"path/to/dog1.jpg\", \"path/to/dog2.jpg\", ...]}\n",
    "\n",
    "# For each class, check if there are at least 9 images and display them\n",
    "for class_name, img_list in images.items():\n",
    "    if len(img_list) >= 9:\n",
    "        display_grid(img_list, class_name)\n"
   ]
  },
  {
   "cell_type": "markdown",
   "metadata": {},
   "source": [
    "# Create RGB histograms"
   ]
  },
  {
   "cell_type": "code",
   "execution_count": null,
   "metadata": {},
   "outputs": [
    {
     "name": "stdout",
     "output_type": "stream",
     "text": [
      "Found directory for dogs: C:/Users/tjerk/Downloads/Animals/dogs\n",
      "Found 1000 images in dogs.\n",
      "Found directory for cats: C:/Users/tjerk/Downloads/Animals/cats\n",
      "Found 1000 images in cats.\n",
      "Found directory for snakes: C:/Users/tjerk/Downloads/Animals/snakes\n",
      "Found 1000 images in snakes.\n",
      "First image path for dogs: C:/Users/tjerk/Downloads/Animals/dogs\\1_0001.jpg\n",
      "First image path for cats: C:/Users/tjerk/Downloads/Animals/cats\\0_0001.jpg\n",
      "First image path for snakes: C:/Users/tjerk/Downloads/Animals/snakes\\2_0001.jpg\n"
     ]
    }
   ],
   "source": [
    "# Define directory paths for each class\n",
    "image_dirs = {\n",
    "    \"dogs\": \"C:/Users/tjerk/Downloads/Animals/dogs\",\n",
    "    \"cats\": \"C:/Users/tjerk/Downloads/Animals/cats\",\n",
    "    \"snakes\": \"C:/Users/tjerk/Downloads/Animals/snakes\"\n",
    "}\n",
    "\n",
    "# Dictionary to store the image paths for each class\n",
    "images = {\"dogs\": [], \"cats\": [], \"snakes\": []}\n",
    "\n",
    "# Loop through each class (dogs, cats, snakes)\n",
    "for class_name, image_dir in image_dirs.items():\n",
    "    # Check if the directory exists\n",
    "    if os.path.exists(image_dir):\n",
    "        print(f\"Found directory for {class_name}: {image_dir}\")\n",
    "        \n",
    "        # Loop through all files in the directory\n",
    "        for filename in os.listdir(image_dir):\n",
    "            # Check if the file is a valid image (filter by .jpg, .png, etc.)\n",
    "            if filename.endswith(\".jpg\"):  # You can add more file extensions if needed\n",
    "                image_path = os.path.join(image_dir, filename)\n",
    "                images[class_name].append(image_path)\n",
    "\n",
    "        # Check if any images were found for this class\n",
    "        print(f\"Found {len(images[class_name])} images in {class_name}.\")\n",
    "    else:\n",
    "        print(f\"Directory for {class_name} not found at {image_dir}.\")\n",
    "\n",
    "# Example: Checking the first image path for each class\n",
    "for class_name in images:\n",
    "    if images[class_name]:\n",
    "        print(f\"First image path for {class_name}: {images[class_name][0]}\")\n",
    "    else:\n",
    "        print(f\"No images found for {class_name}.\")\n",
    "\n"
   ]
  },
  {
   "cell_type": "markdown",
   "metadata": {},
   "source": [
    "# Convert images to HSL and create histograms"
   ]
  },
  {
   "cell_type": "code",
   "execution_count": 29,
   "metadata": {},
   "outputs": [
    {
     "name": "stdout",
     "output_type": "stream",
     "text": [
      "Found directory for dogs: C:/Users/tjerk/Downloads/Animals/dogs\n",
      "Found 1000 images in dogs.\n",
      "Found directory for cats: C:/Users/tjerk/Downloads/Animals/cats\n",
      "Found 1000 images in cats.\n",
      "Found directory for snakes: C:/Users/tjerk/Downloads/Animals/snakes\n",
      "Found 1000 images in snakes.\n",
      "Plotting HSL histograms for dogs...\n"
     ]
    },
    {
     "name": "stderr",
     "output_type": "stream",
     "text": [
      "\n",
      "KeyboardInterrupt\n",
      "\n"
     ]
    },
    {
     "data": {
      "text/plain": [
       "<Figure size 1200x600 with 0 Axes>"
      ]
     },
     "metadata": {},
     "output_type": "display_data"
    }
   ],
   "source": [
    "import numpy as np\n",
    "import matplotlib.pyplot as plt\n",
    "from PIL import Image\n",
    "import os\n",
    "\n",
    "# Define directory paths for each class\n",
    "image_dirs = {\n",
    "    \"dogs\": \"C:/Users/tjerk/Downloads/Animals/dogs\",\n",
    "    \"cats\": \"C:/Users/tjerk/Downloads/Animals/cats\",\n",
    "    \"snakes\": \"C:/Users/tjerk/Downloads/Animals/snakes\"\n",
    "}\n",
    "\n",
    "# Dictionary to store the image paths for each class\n",
    "images = {\"dogs\": [], \"cats\": [], \"snakes\": []}\n",
    "\n",
    "# Loop through each class (dogs, cats, snakes)\n",
    "for class_name, image_dir in image_dirs.items():\n",
    "    # Check if the directory exists\n",
    "    if os.path.exists(image_dir):\n",
    "        print(f\"Found directory for {class_name}: {image_dir}\")\n",
    "        \n",
    "        # Loop through all files in the directory\n",
    "        for filename in os.listdir(image_dir):\n",
    "            # Check if the file is a valid image (filter by .jpg, .png, etc.)\n",
    "            if filename.endswith((\".jpg\", \".png\", \".jpeg\")):  # You can add more file extensions if needed\n",
    "                image_path = os.path.join(image_dir, filename)\n",
    "                images[class_name].append(image_path)\n",
    "\n",
    "        # Check if any images were found for this class\n",
    "        print(f\"Found {len(images[class_name])} images in {class_name}.\")\n",
    "    else:\n",
    "        print(f\"Directory for {class_name} not found at {image_dir}.\")\n",
    "\n",
    "# Function to convert RGB to HSL manually\n",
    "def rgb_to_hsl(r, g, b):\n",
    "    r, g, b = r / 255.0, g / 255.0, b / 255.0\n",
    "    max_val = max(r, g, b)\n",
    "    min_val = min(r, g, b)\n",
    "    delta = max_val - min_val\n",
    "\n",
    "    # Lightness\n",
    "    l = (max_val + min_val) / 2.0\n",
    "\n",
    "    # Saturation\n",
    "    if delta == 0:\n",
    "        s = 0\n",
    "        h = 0  # Undefined\n",
    "    else:\n",
    "        if l < 0.5:\n",
    "            s = delta / (max_val + min_val)\n",
    "        else:\n",
    "            s = delta / (2.0 - max_val - min_val)\n",
    "\n",
    "        # Hue\n",
    "        if max_val == r:\n",
    "            h = (g - b) / delta\n",
    "        elif max_val == g:\n",
    "            h = (b - r) / delta + 2\n",
    "        else:\n",
    "            h = (r - g) / delta + 4\n",
    "\n",
    "        h /= 6.0\n",
    "        if h < 0:\n",
    "            h += 1.0\n",
    "\n",
    "    return h * 360, s * 100, l * 100  # Return Hue (degrees), Saturation (%), Lightness (%)\n",
    "\n",
    "# Function to plot histograms for HSL values\n",
    "def plot_hsl_histograms(img_list, class_name):\n",
    "    # Initialize lists to hold the HSL values for all images\n",
    "    h_vals, s_vals, l_vals = [], [], []\n",
    "    \n",
    "    for img_path in img_list:\n",
    "        try:\n",
    "            # Open image and convert it to RGB\n",
    "            with Image.open(img_path) as img:\n",
    "                # Convert to RGB if not already in RGB\n",
    "                img = img.convert(\"RGB\")\n",
    "                \n",
    "                # Convert image to a NumPy array\n",
    "                img_array = np.array(img)\n",
    "\n",
    "                # Extract HSL values\n",
    "                for row in img_array:\n",
    "                    for pixel in row:\n",
    "                        r, g, b = pixel  # RGB values\n",
    "                        h, s, l = rgb_to_hsl(r, g, b)  # Convert to HSL\n",
    "                        h_vals.append(h)\n",
    "                        s_vals.append(s)\n",
    "                        l_vals.append(l)\n",
    "        except Exception as e:\n",
    "            print(f\"Error processing image {img_path}: {e}\")\n",
    "            continue\n",
    "\n",
    "    # Plot HSL histograms\n",
    "    plt.figure(figsize=(12, 6))\n",
    "    \n",
    "    # Plot histogram for Hue\n",
    "    plt.subplot(1, 3, 1)\n",
    "    plt.hist(h_vals, bins=256, color='red', alpha=0.6)  # Hue color set to red\n",
    "    plt.title(f\"Hue Histogram for {class_name}\")\n",
    "    plt.xlabel(\"Hue Value\")\n",
    "    plt.ylabel(\"Frequency\")\n",
    "    \n",
    "    # Plot histogram for Saturation\n",
    "    plt.subplot(1, 3, 2)\n",
    "    plt.hist(s_vals, bins=256, color='green', alpha=0.6)  # Saturation color set to green\n",
    "    plt.title(f\"Saturation Histogram for {class_name}\")\n",
    "    plt.xlabel(\"Saturation Value\")\n",
    "    plt.ylabel(\"Frequency\")\n",
    "    \n",
    "    # Plot histogram for Lightness\n",
    "    plt.subplot(1, 3, 3)\n",
    "    plt.hist(l_vals, bins=256, color='blue', alpha=0.6)  # Lightness color set to blue\n",
    "    plt.title(f\"Lightness Histogram for {class_name}\")\n",
    "    plt.xlabel(\"Lightness Value\")\n",
    "    plt.ylabel(\"Frequency\")\n",
    "    \n",
    "    plt.tight_layout()\n",
    "    plt.show()\n",
    "\n",
    "# For each class, plot the HSL histograms\n",
    "for class_name, img_list in images.items():\n",
    "    if img_list:\n",
    "        print(f\"Plotting HSL histograms for {class_name}...\")\n",
    "        plot_hsl_histograms(img_list, class_name)\n",
    "\n",
    "\n"
   ]
  },
  {
   "cell_type": "markdown",
   "metadata": {},
   "source": [
    "# Dimensionality reduction using PCA"
   ]
  },
  {
   "cell_type": "code",
   "execution_count": null,
   "metadata": {},
   "outputs": [],
   "source": []
  }
 ],
 "metadata": {
  "kernelspec": {
   "display_name": "Python 3",
   "language": "python",
   "name": "python3"
  },
  "language_info": {
   "codemirror_mode": {
    "name": "ipython",
    "version": 3
   },
   "file_extension": ".py",
   "mimetype": "text/x-python",
   "name": "python",
   "nbconvert_exporter": "python",
   "pygments_lexer": "ipython3",
   "version": "3.13.0"
  }
 },
 "nbformat": 4,
 "nbformat_minor": 2
}
